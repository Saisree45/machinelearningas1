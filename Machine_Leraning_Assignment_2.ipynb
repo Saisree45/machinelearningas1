{
 "cells": [
  {
   "cell_type": "code",
   "execution_count": 2,
   "id": "960ddf03",
   "metadata": {},
   "outputs": [],
   "source": [
    "import numpy as np\n",
    "import pandas as pd\n",
    "import matplotlib.pyplot as plt\n",
    "from pandas import read_csv"
   ]
  },
  {
   "cell_type": "code",
   "execution_count": 3,
   "id": "74efc55b",
   "metadata": {},
   "outputs": [],
   "source": [
    "url='https://raw.githubusercontent.com/Saisree45/machinelearningas1/main/myClassDataSet.csv'"
   ]
  },
  {
   "cell_type": "code",
   "execution_count": 5,
   "id": "63759322",
   "metadata": {},
   "outputs": [],
   "source": [
    "data_file=pd.read_csv(url)"
   ]
  },
  {
   "cell_type": "code",
   "execution_count": 6,
   "id": "2b1e7815",
   "metadata": {},
   "outputs": [
    {
     "data": {
      "text/html": [
       "<div>\n",
       "<style scoped>\n",
       "    .dataframe tbody tr th:only-of-type {\n",
       "        vertical-align: middle;\n",
       "    }\n",
       "\n",
       "    .dataframe tbody tr th {\n",
       "        vertical-align: top;\n",
       "    }\n",
       "\n",
       "    .dataframe thead th {\n",
       "        text-align: right;\n",
       "    }\n",
       "</style>\n",
       "<table border=\"1\" class=\"dataframe\">\n",
       "  <thead>\n",
       "    <tr style=\"text-align: right;\">\n",
       "      <th></th>\n",
       "      <th>f1</th>\n",
       "      <th>f2</th>\n",
       "      <th>f3</th>\n",
       "      <th>f4</th>\n",
       "      <th>f5</th>\n",
       "      <th>f6</th>\n",
       "      <th>f7</th>\n",
       "      <th>f8</th>\n",
       "      <th>class</th>\n",
       "    </tr>\n",
       "  </thead>\n",
       "  <tbody>\n",
       "    <tr>\n",
       "      <th>0</th>\n",
       "      <td>3.125845</td>\n",
       "      <td>4.213543</td>\n",
       "      <td>2.786926</td>\n",
       "      <td>0.832175</td>\n",
       "      <td>-1.178735</td>\n",
       "      <td>3.581140</td>\n",
       "      <td>-2.352872</td>\n",
       "      <td>7.804524</td>\n",
       "      <td>0</td>\n",
       "    </tr>\n",
       "    <tr>\n",
       "      <th>1</th>\n",
       "      <td>2.092247</td>\n",
       "      <td>3.383249</td>\n",
       "      <td>0.434993</td>\n",
       "      <td>2.003855</td>\n",
       "      <td>-2.525389</td>\n",
       "      <td>2.231663</td>\n",
       "      <td>-1.043635</td>\n",
       "      <td>7.149358</td>\n",
       "      <td>0</td>\n",
       "    </tr>\n",
       "    <tr>\n",
       "      <th>2</th>\n",
       "      <td>1.028549</td>\n",
       "      <td>3.944043</td>\n",
       "      <td>0.059291</td>\n",
       "      <td>0.011443</td>\n",
       "      <td>-1.309637</td>\n",
       "      <td>1.272289</td>\n",
       "      <td>-1.005366</td>\n",
       "      <td>7.434625</td>\n",
       "      <td>0</td>\n",
       "    </tr>\n",
       "    <tr>\n",
       "      <th>3</th>\n",
       "      <td>1.331028</td>\n",
       "      <td>4.920674</td>\n",
       "      <td>2.063895</td>\n",
       "      <td>1.424668</td>\n",
       "      <td>-1.073122</td>\n",
       "      <td>1.088142</td>\n",
       "      <td>-1.211250</td>\n",
       "      <td>8.603362</td>\n",
       "      <td>0</td>\n",
       "    </tr>\n",
       "    <tr>\n",
       "      <th>4</th>\n",
       "      <td>0.699447</td>\n",
       "      <td>5.427693</td>\n",
       "      <td>1.881804</td>\n",
       "      <td>0.387634</td>\n",
       "      <td>-0.134386</td>\n",
       "      <td>3.955468</td>\n",
       "      <td>-1.229464</td>\n",
       "      <td>7.241683</td>\n",
       "      <td>0</td>\n",
       "    </tr>\n",
       "    <tr>\n",
       "      <th>...</th>\n",
       "      <td>...</td>\n",
       "      <td>...</td>\n",
       "      <td>...</td>\n",
       "      <td>...</td>\n",
       "      <td>...</td>\n",
       "      <td>...</td>\n",
       "      <td>...</td>\n",
       "      <td>...</td>\n",
       "      <td>...</td>\n",
       "    </tr>\n",
       "    <tr>\n",
       "      <th>995</th>\n",
       "      <td>8.065589</td>\n",
       "      <td>-2.876613</td>\n",
       "      <td>7.387783</td>\n",
       "      <td>0.685190</td>\n",
       "      <td>2.896235</td>\n",
       "      <td>8.326981</td>\n",
       "      <td>-8.756062</td>\n",
       "      <td>-10.456668</td>\n",
       "      <td>1</td>\n",
       "    </tr>\n",
       "    <tr>\n",
       "      <th>996</th>\n",
       "      <td>-0.165631</td>\n",
       "      <td>2.992817</td>\n",
       "      <td>0.522346</td>\n",
       "      <td>-0.814307</td>\n",
       "      <td>-1.480769</td>\n",
       "      <td>1.959508</td>\n",
       "      <td>-1.329067</td>\n",
       "      <td>7.131601</td>\n",
       "      <td>0</td>\n",
       "    </tr>\n",
       "    <tr>\n",
       "      <th>997</th>\n",
       "      <td>8.752156</td>\n",
       "      <td>-0.448005</td>\n",
       "      <td>5.699655</td>\n",
       "      <td>0.646043</td>\n",
       "      <td>0.691320</td>\n",
       "      <td>8.557304</td>\n",
       "      <td>-8.199507</td>\n",
       "      <td>-8.732978</td>\n",
       "      <td>1</td>\n",
       "    </tr>\n",
       "    <tr>\n",
       "      <th>998</th>\n",
       "      <td>9.486646</td>\n",
       "      <td>-3.418626</td>\n",
       "      <td>4.947159</td>\n",
       "      <td>-0.362406</td>\n",
       "      <td>3.283010</td>\n",
       "      <td>7.685236</td>\n",
       "      <td>-10.101643</td>\n",
       "      <td>-7.335390</td>\n",
       "      <td>1</td>\n",
       "    </tr>\n",
       "    <tr>\n",
       "      <th>999</th>\n",
       "      <td>8.711242</td>\n",
       "      <td>-2.375458</td>\n",
       "      <td>5.829764</td>\n",
       "      <td>1.262084</td>\n",
       "      <td>-0.799380</td>\n",
       "      <td>8.314573</td>\n",
       "      <td>-9.811812</td>\n",
       "      <td>-6.565574</td>\n",
       "      <td>1</td>\n",
       "    </tr>\n",
       "  </tbody>\n",
       "</table>\n",
       "<p>1000 rows × 9 columns</p>\n",
       "</div>"
      ],
      "text/plain": [
       "           f1        f2        f3        f4        f5        f6         f7  \\\n",
       "0    3.125845  4.213543  2.786926  0.832175 -1.178735  3.581140  -2.352872   \n",
       "1    2.092247  3.383249  0.434993  2.003855 -2.525389  2.231663  -1.043635   \n",
       "2    1.028549  3.944043  0.059291  0.011443 -1.309637  1.272289  -1.005366   \n",
       "3    1.331028  4.920674  2.063895  1.424668 -1.073122  1.088142  -1.211250   \n",
       "4    0.699447  5.427693  1.881804  0.387634 -0.134386  3.955468  -1.229464   \n",
       "..        ...       ...       ...       ...       ...       ...        ...   \n",
       "995  8.065589 -2.876613  7.387783  0.685190  2.896235  8.326981  -8.756062   \n",
       "996 -0.165631  2.992817  0.522346 -0.814307 -1.480769  1.959508  -1.329067   \n",
       "997  8.752156 -0.448005  5.699655  0.646043  0.691320  8.557304  -8.199507   \n",
       "998  9.486646 -3.418626  4.947159 -0.362406  3.283010  7.685236 -10.101643   \n",
       "999  8.711242 -2.375458  5.829764  1.262084 -0.799380  8.314573  -9.811812   \n",
       "\n",
       "            f8  class  \n",
       "0     7.804524      0  \n",
       "1     7.149358      0  \n",
       "2     7.434625      0  \n",
       "3     8.603362      0  \n",
       "4     7.241683      0  \n",
       "..         ...    ...  \n",
       "995 -10.456668      1  \n",
       "996   7.131601      0  \n",
       "997  -8.732978      1  \n",
       "998  -7.335390      1  \n",
       "999  -6.565574      1  \n",
       "\n",
       "[1000 rows x 9 columns]"
      ]
     },
     "execution_count": 6,
     "metadata": {},
     "output_type": "execute_result"
    }
   ],
   "source": [
    "data_file"
   ]
  },
  {
   "cell_type": "code",
   "execution_count": 7,
   "id": "bc058134",
   "metadata": {},
   "outputs": [],
   "source": [
    "array=data_file.values"
   ]
  },
  {
   "cell_type": "code",
   "execution_count": 9,
   "id": "24e9f14b",
   "metadata": {},
   "outputs": [],
   "source": [
    "X = array[:,0:8]\n",
    "Y=array[:,8]"
   ]
  },
  {
   "cell_type": "code",
   "execution_count": 12,
   "id": "0876b635",
   "metadata": {},
   "outputs": [
    {
     "data": {
      "text/plain": [
       "array([[  3.12584461,   4.21354348,   2.78692645, ...,  -2.35287237,\n",
       "          7.80452376,   0.        ],\n",
       "       [  2.09224661,   3.38324916,   0.43499342, ...,  -1.04363488,\n",
       "          7.14935819,   0.        ],\n",
       "       [  1.02854903,   3.94404275,   0.05929065, ...,  -1.00536595,\n",
       "          7.43462531,   0.        ],\n",
       "       ...,\n",
       "       [  8.75215573,  -0.44800548,   5.69965471, ...,  -8.19950745,\n",
       "         -8.73297799,   1.        ],\n",
       "       [  9.4866465 ,  -3.41862581,   4.94715889, ..., -10.10164269,\n",
       "         -7.33538989,   1.        ],\n",
       "       [  8.71124201,  -2.37545793,   5.829764  , ...,  -9.8118115 ,\n",
       "         -6.56557437,   1.        ]])"
      ]
     },
     "execution_count": 12,
     "metadata": {},
     "output_type": "execute_result"
    }
   ],
   "source": [
    "array[:,]"
   ]
  },
  {
   "cell_type": "code",
   "execution_count": 26,
   "id": "9227518c",
   "metadata": {},
   "outputs": [],
   "source": [
    "from sklearn.model_selection import RepeatedKFold\n",
    "from sklearn.linear_model import LogisticRegression\n",
    "from sklearn.model_selection import cross_val_score\n",
    "from numpy import mean\n",
    "from numpy import std"
   ]
  },
  {
   "cell_type": "code",
   "execution_count": 27,
   "id": "4c5d5567",
   "metadata": {},
   "outputs": [],
   "source": [
    "repeat_Kfold = RepeatedKFold(n_splits=10, n_repeats=10, random_state=2)"
   ]
  },
  {
   "cell_type": "code",
   "execution_count": 28,
   "id": "d6c80f20",
   "metadata": {},
   "outputs": [],
   "source": [
    "model = LogisticRegression(solver='liblinear')"
   ]
  },
  {
   "cell_type": "code",
   "execution_count": 29,
   "id": "1fd198cb",
   "metadata": {},
   "outputs": [],
   "source": [
    "#evaluate the model\n",
    "results = cross_val_score(model, X, Y, scoring='accuracy', cv=repeat_Kfold, n_jobs=-1)"
   ]
  },
  {
   "cell_type": "code",
   "execution_count": 30,
   "id": "2bfaef2f",
   "metadata": {},
   "outputs": [
    {
     "name": "stdout",
     "output_type": "stream",
     "text": [
      "Accuracy Score: 100.000 (0.000)\n"
     ]
    }
   ],
   "source": [
    "print('Accuracy Score: %.3f (%.3f)' % (results.mean()*100.0, results.std()*100.0))"
   ]
  },
  {
   "cell_type": "code",
   "execution_count": 31,
   "id": "96285986",
   "metadata": {},
   "outputs": [
    {
     "name": "stdout",
     "output_type": "stream",
     "text": [
      "Accuracy: 1.000 (0.000)\n"
     ]
    }
   ],
   "source": [
    "print('Accuracy: %.3f (%.3f)' % (mean(results), std(results)))"
   ]
  },
  {
   "cell_type": "code",
   "execution_count": 32,
   "id": "a4f2d1d1",
   "metadata": {},
   "outputs": [],
   "source": [
    "#using cross-val-score evaluate accuracy \n",
    "scoring='accuracy'"
   ]
  },
  {
   "cell_type": "code",
   "execution_count": 33,
   "id": "60e7d1c6",
   "metadata": {},
   "outputs": [],
   "source": [
    "score=cross_val_score(model,X,Y, cv=repeat_Kfold,scoring=scoring)"
   ]
  },
  {
   "cell_type": "code",
   "execution_count": 34,
   "id": "9b3a83a9",
   "metadata": {},
   "outputs": [
    {
     "name": "stdout",
     "output_type": "stream",
     "text": [
      "Accuracy: 1.000 (0.000)\n"
     ]
    }
   ],
   "source": [
    "print(\"Accuracy: %.3f (%.3f)\" % (score.mean(), score.std()))"
   ]
  },
  {
   "cell_type": "code",
   "execution_count": 35,
   "id": "9ca53294",
   "metadata": {},
   "outputs": [],
   "source": [
    "#using cross_val_score evaluate neg_log_loss\n",
    "scoring_1='neg_log_loss'"
   ]
  },
  {
   "cell_type": "code",
   "execution_count": 37,
   "id": "ef7d6777",
   "metadata": {},
   "outputs": [],
   "source": [
    "score_1=cross_val_score(model,X,Y,cv=repeat_Kfold,scoring=scoring_1)"
   ]
  },
  {
   "cell_type": "code",
   "execution_count": 39,
   "id": "fcff0f7e",
   "metadata": {},
   "outputs": [
    {
     "name": "stdout",
     "output_type": "stream",
     "text": [
      "Logloss: -0.000 (0.000)\n"
     ]
    }
   ],
   "source": [
    "print(\"Logloss: %.3f (%.3f)\" % (score_1.mean(), score_1.std()))"
   ]
  },
  {
   "cell_type": "code",
   "execution_count": 40,
   "id": "102cbcaf",
   "metadata": {},
   "outputs": [],
   "source": [
    "#using cross_val_score evaluate roc_auc\n",
    "scoring_2='roc_auc'"
   ]
  },
  {
   "cell_type": "code",
   "execution_count": 41,
   "id": "15ac6101",
   "metadata": {},
   "outputs": [],
   "source": [
    "score_2=cross_val_score(model,X,Y,cv=repeat_Kfold,scoring=scoring_2)"
   ]
  },
  {
   "cell_type": "code",
   "execution_count": 42,
   "id": "2bea42fc",
   "metadata": {},
   "outputs": [
    {
     "name": "stdout",
     "output_type": "stream",
     "text": [
      "Roc_Auc: 1.000 (0.000)\n"
     ]
    }
   ],
   "source": [
    "print(\"Roc_Auc: %.3f (%.3f)\" % (score_2.mean(), score_2.std()))"
   ]
  },
  {
   "cell_type": "code",
   "execution_count": 43,
   "id": "7ef552e2",
   "metadata": {},
   "outputs": [],
   "source": [
    "#problem1.c\n",
    "\n",
    "from sklearn.model_selection import KFold\n",
    "from sklearn.linear_model import LogisticRegression\n",
    "from sklearn.model_selection import cross_val_score\n",
    "from sklearn.discriminant_analysis import LinearDiscriminantAnalysis\n",
    "from numpy import mean\n",
    "from numpy import std"
   ]
  },
  {
   "cell_type": "code",
   "execution_count": 44,
   "id": "abd1f32a",
   "metadata": {},
   "outputs": [],
   "source": [
    "#Linear Discrimination analysis using kfold \n",
    "kfold = KFold(n_splits=10, random_state=7, shuffle=True)"
   ]
  },
  {
   "cell_type": "code",
   "execution_count": 45,
   "id": "c385bad9",
   "metadata": {},
   "outputs": [],
   "source": [
    "\n",
    "model = LinearDiscriminantAnalysis()"
   ]
  },
  {
   "cell_type": "code",
   "execution_count": 46,
   "id": "2280709a",
   "metadata": {},
   "outputs": [],
   "source": [
    "results = cross_val_score(model, X, Y, cv=kfold)"
   ]
  },
  {
   "cell_type": "code",
   "execution_count": 47,
   "id": "ff8bb3c9",
   "metadata": {},
   "outputs": [
    {
     "name": "stdout",
     "output_type": "stream",
     "text": [
      "1.0\n"
     ]
    }
   ],
   "source": [
    "print(results.mean())"
   ]
  },
  {
   "cell_type": "code",
   "execution_count": 48,
   "id": "699c4db6",
   "metadata": {},
   "outputs": [],
   "source": [
    "#Logistic Regression using Kfold\n",
    "\n",
    "LRA= LogisticRegression(solver='liblinear')"
   ]
  },
  {
   "cell_type": "code",
   "execution_count": 50,
   "id": "759edacc",
   "metadata": {},
   "outputs": [],
   "source": [
    "results_1 = cross_val_score(LRA, X, Y, cv=kfold)"
   ]
  },
  {
   "cell_type": "code",
   "execution_count": 51,
   "id": "8d9d68da",
   "metadata": {},
   "outputs": [
    {
     "name": "stdout",
     "output_type": "stream",
     "text": [
      "1.0\n"
     ]
    }
   ],
   "source": [
    "print(results_1.mean())"
   ]
  },
  {
   "cell_type": "code",
   "execution_count": 89,
   "id": "9bf39183",
   "metadata": {},
   "outputs": [],
   "source": [
    "from sklearn.linear_model import LogisticRegression\n",
    "from sklearn.neighbors import KNeighborsClassifier\n",
    "from sklearn.discriminant_analysis import LinearDiscriminantAnalysis\n",
    "from sklearn.naive_bayes import GaussianNB\n",
    "from sklearn.svm import SVC\n",
    "from sklearn.metrics import accuracy_score\n",
    "from matplotlib import pyplot"
   ]
  },
  {
   "cell_type": "code",
   "execution_count": 82,
   "id": "a7a0afa0",
   "metadata": {},
   "outputs": [],
   "source": [
    "# Evaluate Algorithms\n",
    "\n",
    "# Test options and evaluation metric\n",
    "n_splits = 10\n",
    "random_state = 7\n",
    "scoring = 'accuracy'"
   ]
  },
  {
   "cell_type": "code",
   "execution_count": 83,
   "id": "3b616149",
   "metadata": {},
   "outputs": [],
   "source": [
    "# Spot Check Algorithms\n",
    "models = []\n",
    "models.append(('LR', LogisticRegression(solver='liblinear')))\n",
    "models.append(('LDA', LinearDiscriminantAnalysis()))\n",
    "models.append(('KNN', KNeighborsClassifier()))\n",
    "models.append(('NB', GaussianNB()))\n",
    "models.append(('SVC', SVC(gamma='auto')))\n",
    "results_display = []\n",
    "names = []\n"
   ]
  },
  {
   "cell_type": "code",
   "execution_count": 84,
   "id": "d4434b5d",
   "metadata": {},
   "outputs": [
    {
     "name": "stdout",
     "output_type": "stream",
     "text": [
      "LR: 1.000000 (0.000000)\n",
      "LDA: 1.000000 (0.000000)\n",
      "KNN: 1.000000 (0.000000)\n",
      "NB: 1.000000 (0.000000)\n",
      "SVC: 1.000000 (0.000000)\n"
     ]
    }
   ],
   "source": [
    "for name, model in models:\n",
    "    kfold = KFold(n_splits=n_splits, random_state=random_state, shuffle=True)\n",
    "    cv_results = cross_val_score(model,X,Y, cv=kfold, scoring=scoring)\n",
    "    results_display.append(cv_results)\n",
    "    names.append(name)\n",
    "    msg = \"%s: %f (%f)\" % (name, cv_results.mean(), cv_results.std())\n",
    "    print(msg)"
   ]
  },
  {
   "cell_type": "code",
   "execution_count": 93,
   "id": "4d3bf42e",
   "metadata": {},
   "outputs": [
    {
     "data": {
      "image/png": "[encoded data removed]",
      "text/plain": [
       "<Figure size 720x360 with 1 Axes>"
      ]
     },
     "metadata": {
      "needs_background": "light"
     },
     "output_type": "display_data"
    }
   ],
   "source": [
    "# Comparing Algorithms using box plot \n",
    "\n",
    "fig, ax = pyplot.subplots(figsize=(10, 5));\n",
    "fig.suptitle('Algorithm Comparison for LR,LDA,KNN,NB,SVC models')\n",
    "pyplot.boxplot(results_display)\n",
    "ax.set_xticklabels(names)\n",
    "pyplot.show()"
   ]
  },
  {
   "cell_type": "code",
   "execution_count": 97,
   "id": "a315ed2b",
   "metadata": {},
   "outputs": [],
   "source": [
    "#Problem.2\n",
    "\n",
    "from sklearn.preprocessing import StandardScaler\n",
    "from sklearn.pipeline import Pipeline"
   ]
  },
  {
   "cell_type": "code",
   "execution_count": 98,
   "id": "56890f89",
   "metadata": {},
   "outputs": [
    {
     "name": "stdout",
     "output_type": "stream",
     "text": [
      "ScaledLR: 1.000000 (0.000000)\n",
      "ScaledLDA: 1.000000 (0.000000)\n",
      "ScaledKNN: 1.000000 (0.000000)\n",
      "ScaledNB: 1.000000 (0.000000)\n",
      "ScaledSVC: 1.000000 (0.000000)\n"
     ]
    }
   ],
   "source": [
    "#Standardizing the dataset\n",
    "pipelines = []\n",
    "pipelines.append(('ScaledLR', Pipeline([('Scaler', StandardScaler()),('LR', LogisticRegression(solver='liblinear'))])))\n",
    "pipelines.append(('ScaledLDA', Pipeline([('Scaler', StandardScaler()),('LDA', LinearDiscriminantAnalysis())])))\n",
    "pipelines.append(('ScaledKNN', Pipeline([('Scaler', StandardScaler()),('KNN', KNeighborsClassifier())])))\n",
    "pipelines.append(('ScaledNB', Pipeline([('Scaler', StandardScaler()),('NB', GaussianNB())])))\n",
    "pipelines.append(('ScaledSVC', Pipeline([('Scaler', StandardScaler()),('SVc', SVC(gamma='auto'))])))\n",
    "results_display2 = []\n",
    "names_1 = []\n",
    "for name, model in pipelines:\n",
    "    kfold = KFold(n_splits=5, random_state=7, shuffle=True)\n",
    "    cv_results = cross_val_score(model,X,Y, cv=kfold, scoring=scoring)\n",
    "    results_display2.append(cv_results)\n",
    "    names_1.append(name)\n",
    "    msg_display = \"%s: %f (%f)\" % (name, cv_results.mean(), cv_results.std())\n",
    "    print(msg_display)"
   ]
  },
  {
   "cell_type": "code",
   "execution_count": 165,
   "id": "cf1d937a",
   "metadata": {},
   "outputs": [],
   "source": [
    "#ii. Extract 3 features with Principal Component Analysis using PCA() \n",
    "\n",
    "from sklearn.decomposition import PCA\n",
    "from sklearn.feature_selection import SelectKBest\n",
    "import warnings\n",
    "from sklearn.pipeline import Pipeline"
   ]
  },
  {
   "cell_type": "code",
   "execution_count": 166,
   "id": "21881136",
   "metadata": {
    "scrolled": true
   },
   "outputs": [],
   "source": [
    "# feature extraction\n",
    "features=[]\n",
    "features.append(('pca',PCA(n_components=3).fit(X,Y)))\n",
    "features.append(('selectkbest',SelectKBest(k=6).fit(X,Y)))"
   ]
  },
  {
   "cell_type": "code",
   "execution_count": 167,
   "id": "3fa5ce7a",
   "metadata": {
    "scrolled": true
   },
   "outputs": [
    {
     "name": "stdout",
     "output_type": "stream",
     "text": [
      "[('pca', PCA(n_components=3)), ('selectkbest', SelectKBest(k=6))]\n"
     ]
    }
   ],
   "source": [
    "print(features)"
   ]
  },
  {
   "cell_type": "code",
   "execution_count": 168,
   "id": "9d02d3ed",
   "metadata": {},
   "outputs": [],
   "source": [
    "#importing warnings \n",
    "import warnings\n",
    "warnings.filterwarnings('ignore')"
   ]
  },
  {
   "cell_type": "code",
   "execution_count": 169,
   "id": "9719e228",
   "metadata": {},
   "outputs": [],
   "source": [
    "#featureunion\n",
    "from sklearn.pipeline import FeatureUnion\n",
    "feature_union = FeatureUnion(features)"
   ]
  },
  {
   "cell_type": "code",
   "execution_count": 170,
   "id": "c066aa9c",
   "metadata": {},
   "outputs": [
    {
     "name": "stdout",
     "output_type": "stream",
     "text": [
      "FeatureUnion(transformer_list=[('pca', PCA(n_components=3)),\n",
      "                               ('selectkbest', SelectKBest(k=6))])\n"
     ]
    }
   ],
   "source": [
    "print(feature_union)"
   ]
  },
  {
   "cell_type": "code",
   "execution_count": 171,
   "id": "3148d896",
   "metadata": {},
   "outputs": [],
   "source": [
    "#createestimators and apply model to learn \n",
    "estimators=[]\n",
    "estimators.append(('feature union',feature_union ))\n",
    "estimators.append(('logostic', LogisticRegression(solver='liblinear')))"
   ]
  },
  {
   "cell_type": "code",
   "execution_count": 175,
   "id": "11aadfee",
   "metadata": {},
   "outputs": [],
   "source": [
    "model_new=Pipeline(estimators)"
   ]
  },
  {
   "cell_type": "code",
   "execution_count": 176,
   "id": "c8781d90",
   "metadata": {},
   "outputs": [],
   "source": [
    "#evaluate the model\n",
    "kfold_new = KFold(n_splits=5, random_state=7, shuffle=True)"
   ]
  },
  {
   "cell_type": "code",
   "execution_count": 177,
   "id": "4d4c67f6",
   "metadata": {},
   "outputs": [],
   "source": [
    "model_results = cross_val_score(model_new, X, Y, cv=kfold_new)"
   ]
  },
  {
   "cell_type": "code",
   "execution_count": 178,
   "id": "ab3a44e6",
   "metadata": {},
   "outputs": [
    {
     "name": "stdout",
     "output_type": "stream",
     "text": [
      "1.0\n"
     ]
    }
   ],
   "source": [
    "print(model_results.mean())"
   ]
  },
  {
   "cell_type": "code",
   "execution_count": 180,
   "id": "18ef228d",
   "metadata": {},
   "outputs": [],
   "source": [
    "#Problem.3\n",
    "#Ensembels\n",
    "from sklearn.ensemble import BaggingClassifier\n",
    "from sklearn.ensemble import AdaBoostClassifier\n",
    "from sklearn.ensemble import VotingRegressor\n",
    "from sklearn.tree import DecisionTreeClassifier"
   ]
  },
  {
   "cell_type": "code",
   "execution_count": 181,
   "id": "d181e22c",
   "metadata": {},
   "outputs": [],
   "source": [
    "random_states = 7\n",
    "kfold_Bagging = KFold(n_splits=10, random_state=random_states, shuffle=True)\n",
    "cart = DecisionTreeClassifier()\n",
    "decision_trees = 100"
   ]
  },
  {
   "cell_type": "code",
   "execution_count": 183,
   "id": "efca91f8",
   "metadata": {},
   "outputs": [],
   "source": [
    "our_model=BaggingClassifier(base_estimator=cart, n_estimators=decision_trees, random_state=random_states)"
   ]
  },
  {
   "cell_type": "code",
   "execution_count": 184,
   "id": "8e24e45d",
   "metadata": {},
   "outputs": [],
   "source": [
    "our_results = cross_val_score(model, X, Y, cv=kfold)"
   ]
  },
  {
   "cell_type": "code",
   "execution_count": 185,
   "id": "f3f167c3",
   "metadata": {},
   "outputs": [
    {
     "name": "stdout",
     "output_type": "stream",
     "text": [
      "1.0\n"
     ]
    }
   ],
   "source": [
    "print(our_results.mean())"
   ]
  },
  {
   "cell_type": "code",
   "execution_count": 186,
   "id": "dce87cb8",
   "metadata": {},
   "outputs": [],
   "source": [
    "#Ada Boost classification\n",
    "from sklearn.ensemble import AdaBoostClassifier"
   ]
  },
  {
   "cell_type": "code",
   "execution_count": 187,
   "id": "c193ce6a",
   "metadata": {},
   "outputs": [],
   "source": [
    "boost_trees=30\n",
    "seeds=7"
   ]
  },
  {
   "cell_type": "code",
   "execution_count": 188,
   "id": "e50d433d",
   "metadata": {},
   "outputs": [
    {
     "name": "stdout",
     "output_type": "stream",
     "text": [
      "1.0\n"
     ]
    }
   ],
   "source": [
    "kfold_Adaboost = KFold(n_splits=10, random_state=seeds, shuffle=True)\n",
    "model = AdaBoostClassifier(n_estimators=boost_trees, random_state=seeds)\n",
    "results_adaboost = cross_val_score(model, X, Y, cv=kfold)\n",
    "print(results_adaboost.mean())"
   ]
  },
  {
   "cell_type": "code",
   "execution_count": 189,
   "id": "d5f8937d",
   "metadata": {},
   "outputs": [],
   "source": [
    "#Voting classifier\n",
    "\n",
    "from sklearn.linear_model import LogisticRegression\n",
    "from sklearn.tree import DecisionTreeClassifier\n",
    "from sklearn.svm import SVC\n",
    "from sklearn.ensemble import VotingClassifier"
   ]
  },
  {
   "cell_type": "code",
   "execution_count": 192,
   "id": "abb9395f",
   "metadata": {},
   "outputs": [],
   "source": [
    "#first create all the 3 models\n",
    "estimatorss=[]\n",
    "models_1=LogisticRegression(solver='liblinear')\n",
    "estimatorss.append(('logistic', models_1))"
   ]
  },
  {
   "cell_type": "code",
   "execution_count": 194,
   "id": "c2941b76",
   "metadata": {},
   "outputs": [],
   "source": [
    "models_2=DecisionTreeClassifier()\n",
    "estimatorss.append(('cart', models_2))"
   ]
  },
  {
   "cell_type": "code",
   "execution_count": 195,
   "id": "c8a7f23e",
   "metadata": {},
   "outputs": [],
   "source": [
    "models_3=SVC(gamma='auto')\n",
    "estimatorss.append(('svc', models_3))"
   ]
  },
  {
   "cell_type": "code",
   "execution_count": 198,
   "id": "730b7537",
   "metadata": {},
   "outputs": [],
   "source": [
    "#create the ensemble model\n",
    "ensemble_model = VotingClassifier(estimatorss)\n",
    "ensemble_results=cross_val_score(ensemble_model, X, Y, cv=kfold_new) #pronlem.2.c kfold is used as it is defined with 7 random state"
   ]
  },
  {
   "cell_type": "code",
   "execution_count": 199,
   "id": "dcac1cba",
   "metadata": {},
   "outputs": [
    {
     "name": "stdout",
     "output_type": "stream",
     "text": [
      "1.0\n"
     ]
    }
   ],
   "source": [
    "print(ensemble_results.mean())"
   ]
  },
  {
   "cell_type": "code",
   "execution_count": null,
   "id": "68ed1c99",
   "metadata": {},
   "outputs": [],
   "source": []
  }
 ],
 "metadata": {
  "kernelspec": {
   "display_name": "Python 3",
   "language": "python",
   "name": "python3"
  },
  "language_info": {
   "codemirror_mode": {
    "name": "ipython",
    "version": 3
   },
   "file_extension": ".py",
   "mimetype": "text/x-python",
   "name": "python",
   "nbconvert_exporter": "python",
   "pygments_lexer": "ipython3",
   "version": "3.8.8"
  }
 },
 "nbformat": 4,
 "nbformat_minor": 5
}
